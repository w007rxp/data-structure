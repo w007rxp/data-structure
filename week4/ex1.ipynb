{
 "cells": [
  {
   "cell_type": "code",
   "execution_count": 5,
   "id": "7c2bf913",
   "metadata": {},
   "outputs": [
    {
     "name": "stdout",
     "output_type": "stream",
     "text": [
      "student id : 12345\n",
      "first name : John\n",
      "last name : Doe\n",
      "phone number : 555-1234\n",
      "gender : Male\n",
      "major : Computer Science\n"
     ]
    }
   ],
   "source": [
    "a = {\n",
    "    \"std_id\": \"12345\",\n",
    "    \"fname\": \"John\",\n",
    "    \"lname\": \"Doe\",\n",
    "    \"phone\": \"555-1234\",\n",
    "    \"gender\": \"Male\",\n",
    "    \"major\": \"Computer Science\",\n",
    "    }\n",
    "\n",
    "b = {\n",
    "    \"std_id\": \"67890\",\n",
    "    \"fname\": \"Jane\",\n",
    "    \"lname\": \"Smith\",\n",
    "    \"phone\": \"555-5678\",\n",
    "    \"gender\": \"Female\",\n",
    "    \"major\": \"Mathematics\",\n",
    "    }\n",
    "\n",
    "\n",
    "#!/usr/bin/env python3\n",
    "# This script prints student information from a dictionary\n",
    "\n",
    "print(\"student id :\", a[\"std_id\"])\n",
    "print(\"first name :\", a[\"fname\"])\n",
    "print(\"last name :\", a[\"lname\"])\n",
    "print(\"phone number :\", a[\"phone\"])\n",
    "print(\"gender :\", a[\"gender\"])\n",
    "print(\"major :\", a[\"major\"])\n",
    "\n",
    "\n"
   ]
  },
  {
   "cell_type": "code",
   "execution_count": 9,
   "id": "f0263043",
   "metadata": {},
   "outputs": [
    {
     "name": "stdout",
     "output_type": "stream",
     "text": [
      "student id : 5\n",
      "first name : 5\n",
      "last name : 5\n",
      "phone number : 5\n",
      "gender : 5\n",
      "major : 5\n"
     ]
    }
   ],
   "source": [
    "########Input########\n",
    "input1 = input(\"Enter student ID: \")\n",
    "input2 = input(\"Enter first name: \")\n",
    "input3 = input(\"Enter last name: \")\n",
    "input4 = input(\"Enter phone number: \")\n",
    "input5 = input(\"Enter gender: \")\n",
    "input6 = input(\"Enter major: \")\n",
    "\n",
    "########Storage########\n",
    "a = [{\n",
    "    \"std_id\": input1,\n",
    "    \"fname\": input2,\n",
    "    \"lname\": input3,\n",
    "    \"phone\": input4,\n",
    "    \"gender\": input5,\n",
    "    \"major\": input6,\n",
    "    }]\n",
    "\n",
    "########Display########\n",
    "print(\"student id :\", a[0][\"std_id\"])\n",
    "print(\"first name :\", a[0][\"fname\"])\n",
    "print(\"last name :\", a[0][\"lname\"])\n",
    "print(\"phone number :\", a[0][\"phone\"])\n",
    "print(\"gender :\", a[0][\"gender\"])\n",
    "print(\"major :\", a[0][\"major\"])\n"
   ]
  },
  {
   "cell_type": "code",
   "execution_count": 30,
   "id": "22b6a73f",
   "metadata": {},
   "outputs": [
    {
     "name": "stdout",
     "output_type": "stream",
     "text": [
      "------------main program-------------\n",
      "----type a to add, type q to quit----\n",
      "------------main program-------------\n",
      "----type a to add, type q to quit----\n"
     ]
    }
   ],
   "source": [
    "student = [] \n",
    "loop = True\n",
    "\n",
    "while loop:\n",
    "\n",
    "    ######## Loop Input ########\n",
    "    input1 = input(\"Enter student ID: \")\n",
    "    input2 = input(\"Enter first name: \")\n",
    "    input3 = input(\"Enter last name: \")\n",
    "    input4 = input(\"Enter phone number: \")\n",
    "    input5 = input(\"Enter gender: \")\n",
    "    input6 = input(\"Enter major: \")\n",
    "    data = {\n",
    "    \"std_id\": input1,\n",
    "    \"fname\": input2,\n",
    "    \"lname\": input3,\n",
    "    \"phone\": input4,\n",
    "    \"gender\": input5,\n",
    "    \"major\": input6,\n",
    "    }\n",
    "    #add data to student\n",
    "    student.append(data) ## Storage\n",
    "\n",
    "    print(\"------------main program-------------\")\n",
    "    print(\"----type a to add, type q to quit----\")\n",
    "    input_check = input(\"Add:a , Quit:q\")\n",
    "\n",
    "    if(input_check == \"a\"):\n",
    "        loop = True\n",
    "    else:\n",
    "        loop = False\n"
   ]
  },
  {
   "cell_type": "code",
   "execution_count": null,
   "id": "dc1d227d",
   "metadata": {},
   "outputs": [
    {
     "name": "stdout",
     "output_type": "stream",
     "text": [
      "จำนวนข้อมูล 2\n",
      "---------------------------\n",
      "{'std_id': '44', 'fname': '44', 'lname': '44', 'phone': '44', 'gender': '44', 'major': '44'}\n",
      "{'std_id': '44', 'fname': '44', 'lname': '44', 'phone': '44', 'gender': '44', 'major': '44'}\n"
     ]
    }
   ],
   "source": [
    "print(\"จำนวนข้อมูล\", len(student))\n",
    "\n",
    "print(\"---------------------------------------------------------------------------------\")\n",
    "\n",
    "i = 0\n",
    "j = len(student)\n",
    "for i in range(j):\n",
    "    print(student[i])"
   ]
  }
 ],
 "metadata": {
  "kernelspec": {
   "display_name": "base",
   "language": "python",
   "name": "python3"
  },
  "language_info": {
   "codemirror_mode": {
    "name": "ipython",
    "version": 3
   },
   "file_extension": ".py",
   "mimetype": "text/x-python",
   "name": "python",
   "nbconvert_exporter": "python",
   "pygments_lexer": "ipython3",
   "version": "3.13.5"
  }
 },
 "nbformat": 4,
 "nbformat_minor": 5
}
