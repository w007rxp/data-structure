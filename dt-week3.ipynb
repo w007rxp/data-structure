{
 "cells": [
  {
   "cell_type": "code",
   "execution_count": 36,
   "id": "61782bec",
   "metadata": {},
   "outputs": [
    {
     "name": "stdout",
     "output_type": "stream",
     "text": [
      "14\n"
     ]
    }
   ],
   "source": [
    "#find\n",
    "text = \"เจ๊หงษ์เป็นชาวจีนสาวสองน่ารักอบอุ่นจีน\"\n",
    "position = text.find(\"จีน\")\n",
    "print(position)"
   ]
  },
  {
   "cell_type": "code",
   "execution_count": null,
   "id": "745bc8fb",
   "metadata": {},
   "outputs": [
    {
     "name": "stdout",
     "output_type": "stream",
     "text": [
      "['ฉันชอบกินไก่KFCซึ่งมีหลายเมนูเช่นไก่ป๊อปลาบและอื่นๆ']\n"
     ]
    }
   ],
   "source": [
    "#split data\n",
    "text = \"ฉันชอบกินไก่KFCซึ่งมีหลายเมนูเช่นไก่ป๊อปลาบและอื่นๆ\"\n",
    "word = text.split()\n",
    "print(word)"
   ]
  },
  {
   "cell_type": "code",
   "execution_count": null,
   "id": "8c3d2695",
   "metadata": {},
   "outputs": [
    {
     "name": "stdout",
     "output_type": "stream",
     "text": [
      "['ฉันชอบกินไก่ ', 'KFC ซึ่งมีหลายเมนู เช่น ไก่ป๊อป ลาบ และอื่นๆ']\n"
     ]
    }
   ],
   "source": [
    "#split data\n",
    "text = \"ฉันชอบกินไก่ ;KFC ซึ่งมีหลายเมนู เช่น ไก่ป๊อป ลาบ และอื่นๆ\"\n",
    "word = text.split(\";\")\n",
    "print(word)"
   ]
  },
  {
   "cell_type": "code",
   "execution_count": 35,
   "id": "8bd17427",
   "metadata": {},
   "outputs": [
    {
     "name": "stdout",
     "output_type": "stream",
     "text": [
      "CATวิ่ง CATกระโดด CATวิ่งหนี CATโดนไล่ หมาวิ่งไล่CAT\n"
     ]
    }
   ],
   "source": [
    "#replace\n",
    "text = \"แมววิ่ง แมวกระโดด แมววิ่งหนี แมวโดนไล่ หมาวิ่งไล่แมว\"\n",
    "new_text = text.replace(\"แมว\", \"CAT\")\n",
    "print(new_text)"
   ]
  },
  {
   "cell_type": "code",
   "execution_count": 25,
   "id": "3d01b98b",
   "metadata": {},
   "outputs": [
    {
     "name": "stdout",
     "output_type": "stream",
     "text": [
      "<class 'str'>\n",
      "7\n",
      "<class 'list'>\n",
      "<class 'set'>\n",
      "<class 'dict'>\n",
      "4\n",
      "4\n",
      "2\n"
     ]
    }
   ],
   "source": [
    "#len function\n",
    "text = \"แมว หมา\"\n",
    "print(type(text))\n",
    "print(len(text))\n",
    "\n",
    "word1 = [\"dog\", \"cat\", \"tiger\", \"lion\"]\n",
    "word2 ={\"dog\", \"cat\", \"tiger\", \"lion\"}\n",
    "word3 = {\"key\":\"data-type\", \"value\":1}\n",
    "print(type(word1))\n",
    "print(type(word2))\n",
    "print(type(word3))\n",
    "print(len(word1))\n",
    "print(len(word2))\n",
    "print(len(word3))"
   ]
  },
  {
   "cell_type": "code",
   "execution_count": 26,
   "id": "37a67a48",
   "metadata": {},
   "outputs": [
    {
     "name": "stdout",
     "output_type": "stream",
     "text": [
      "you never work alone\n"
     ]
    }
   ],
   "source": [
    "#lower\n",
    "text = \"You Never Work Alone\"\n",
    "print(text.lower())"
   ]
  },
  {
   "cell_type": "code",
   "execution_count": 27,
   "id": "4070884b",
   "metadata": {},
   "outputs": [
    {
     "name": "stdout",
     "output_type": "stream",
     "text": [
      "YOU NEVER WORK ALONE\n"
     ]
    }
   ],
   "source": [
    "#upper\n",
    "text = \"You Never Work Alone\"\n",
    "print(text.upper())"
   ]
  },
  {
   "cell_type": "code",
   "execution_count": 33,
   "id": "2db919e5",
   "metadata": {},
   "outputs": [
    {
     "name": "stdout",
     "output_type": "stream",
     "text": [
      "before => 97\n",
      "after => 64\n"
     ]
    }
   ],
   "source": [
    "#strip\n",
    "text = \"             >>> วันนี้วันดี ที่เราได้มาพบกัน วันนี้วันจันทร์ มีตลาดมืดนะ <<<                    \"\n",
    "new_text = text.strip()\n",
    "print(\"before =>\", len(text))\n",
    "print(\"after =>\", len(new_text))\n"
   ]
  },
  {
   "cell_type": "code",
   "execution_count": null,
   "id": "f95c8335",
   "metadata": {},
   "outputs": [
    {
     "name": "stdout",
     "output_type": "stream",
     "text": [
      "จำนวนคำทั้งหมดในข้อความ : 2\n",
      "จำนวนครั้งที่คำปรากฎในข้อความ : 1\n",
      "ตำแหน่งในข้อความแรกที่พบ : 1\n"
     ]
    },
    {
     "ename": "NameError",
     "evalue": "name 'upper' is not defined",
     "output_type": "error",
     "traceback": [
      "\u001b[31m---------------------------------------------------------------------------\u001b[39m",
      "\u001b[31mNameError\u001b[39m                                 Traceback (most recent call last)",
      "\u001b[36mCell\u001b[39m\u001b[36m \u001b[39m\u001b[32mIn[52]\u001b[39m\u001b[32m, line 8\u001b[39m\n\u001b[32m      6\u001b[39m inpps = input1.find(input2)\n\u001b[32m      7\u001b[39m \u001b[38;5;28mprint\u001b[39m(\u001b[33m\"\u001b[39m\u001b[33mตำแหน่งในข้อความแรกที่พบ :\u001b[39m\u001b[33m\"\u001b[39m, inpps)\n\u001b[32m----> \u001b[39m\u001b[32m8\u001b[39m upc = input1.count(\u001b[43mupper\u001b[49m())\n",
      "\u001b[31mNameError\u001b[39m: name 'upper' is not defined"
     ]
    }
   ],
   "source": [
    "input1 = input(\"ใส่ข้อความ :\")\n",
    "print(\"จำนวนคำทั้งหมดในข้อความ :\",len(input1))\n",
    "input2 = input(\"คำค้นหา :\")\n",
    "inp2c = input1.count(input2)\n",
    "print(\"จำนวนครั้งที่คำปรากฎในข้อความ :\",inp2c)\n",
    "inpps = input1.find(input2)\n",
    "print(\"ตำแหน่งในข้อความแรกที่พบ :\", inpps)\n",
    "count = sum(1 for char in input1 if char.isupper())\n",
    "print(f\"จำนวนตัวพิมพ์ใหญ่ในข้อความคือ: {count}\")\n"
   ]
  }
 ],
 "metadata": {
  "kernelspec": {
   "display_name": "base",
   "language": "python",
   "name": "python3"
  },
  "language_info": {
   "codemirror_mode": {
    "name": "ipython",
    "version": 3
   },
   "file_extension": ".py",
   "mimetype": "text/x-python",
   "name": "python",
   "nbconvert_exporter": "python",
   "pygments_lexer": "ipython3",
   "version": "3.13.5"
  }
 },
 "nbformat": 4,
 "nbformat_minor": 5
}
