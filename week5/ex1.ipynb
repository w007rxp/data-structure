{
 "cells": [
  {
   "cell_type": "code",
   "execution_count": 2,
   "id": "43daead0",
   "metadata": {},
   "outputs": [
    {
     "name": "stdout",
     "output_type": "stream",
     "text": [
      "------------main program-------------\n",
      "----type a to add, type q to quit, type p to print----\n",
      "No student data to print.\n",
      "------------main program-------------\n",
      "----type a to add, type q to quit, type p to print----\n",
      "No student data to print.\n",
      "------------main program-------------\n",
      "----type a to add, type q to quit, type p to print----\n",
      "------------main program-------------\n",
      "----type a to add, type q to quit, type p to print----\n",
      "------------main program-------------\n",
      "----type a to add, type q to quit, type p to print----\n",
      "----- Student List -----\n",
      "1. 674245007 watcharapiol dsef 8888 men efef\n",
      "2. 74558 ffe geeef 2555 men mma\n",
      "------------main program-------------\n",
      "----type a to add, type q to quit, type p to print----\n"
     ]
    }
   ],
   "source": [
    "student = []\n",
    "loop = True\n",
    "\n",
    "while loop:\n",
    "    print(\"------------main program-------------\")\n",
    "    print(\"----type a to add, type q to quit, type p to print----\")\n",
    "    input_check = input(\"Add:a , Quit:q , Print:p : \")\n",
    "\n",
    "    if input_check == \"a\":\n",
    "        input1 = input(\"Enter student ID: \")\n",
    "        input2 = input(\"Enter first name: \")\n",
    "        input3 = input(\"Enter last name: \")\n",
    "        input4 = input(\"Enter phone number: \")\n",
    "        input5 = input(\"Enter gender: \")\n",
    "        input6 = input(\"Enter major: \")\n",
    "        data = {\n",
    "            \"std_id\": input1,\n",
    "            \"fname\": input2,\n",
    "            \"lname\": input3,\n",
    "            \"phone\": input4,\n",
    "            \"gender\": input5,\n",
    "            \"major\": input6,\n",
    "        }\n",
    "        student.append(data)\n",
    "    elif input_check == \"p\":\n",
    "        if len(student) == 0:\n",
    "            print(\"No student data to print.\")\n",
    "            continue\n",
    "        start = int(input(\"Enter start index (1-based): \")) - 1\n",
    "        end = int(input(\"Enter end index (1-based): \"))\n",
    "        print(\"----- Student List -----\")\n",
    "        for i, s in enumerate(student[start:end], start=start+1):\n",
    "            print(f\"{i}. {s['std_id']} {s['fname']} {s['lname']} {s['phone']} {s['gender']} {s['major']}\")\n",
    "    elif input_check == \"q\":\n",
    "        loop = False\n",
    "    else:\n",
    "        print(\"Invalid input. Please try again.\")"
   ]
  }
 ],
 "metadata": {
  "kernelspec": {
   "display_name": ".venv",
   "language": "python",
   "name": "python3"
  },
  "language_info": {
   "codemirror_mode": {
    "name": "ipython",
    "version": 3
   },
   "file_extension": ".py",
   "mimetype": "text/x-python",
   "name": "python",
   "nbconvert_exporter": "python",
   "pygments_lexer": "ipython3",
   "version": "3.13.5"
  }
 },
 "nbformat": 4,
 "nbformat_minor": 5
}
